{
 "cells": [
  {
   "cell_type": "markdown",
   "id": "4439ca71-db0d-4d1a-89fb-eeb4c35c4c87",
   "metadata": {},
   "source": [
    "## Введение"
   ]
  },
  {
   "cell_type": "markdown",
   "id": "3fa48514-1b78-47f9-ab7a-20fc38f1e759",
   "metadata": {},
   "source": [
    "### Описание задачи"
   ]
  },
  {
   "cell_type": "markdown",
   "id": "f202d183-e8e0-4a52-89fd-8b89fbf4b690",
   "metadata": {},
   "source": [
    "Предсказать следующие 10 MCC-кодов 7033 клиентов, основываясь на их предыдущих тратах. В качестве тренировочной выборки предоставлены последовательности MCC-кодов других 7033 клиентов с таргетом в виде 10 последующих MCC-кодов.\n",
    "\n",
    "Целевая метрика — MAP@10 (mean average precision), обычно используется для оценки качества ранжирования, где задача стоит в сортировке уникальных айтемов по релевантности.\n",
    "\n",
    "[Описание MCC-кодов.](https://mcc-codes.ru/code)\n",
    "\n",
    "Данная задача представлена ALFABANK CAMPUS - [ссылка соревнования на Kaggle](https://www.kaggle.com/competitions/alfabank-campus)"
   ]
  },
  {
   "cell_type": "markdown",
   "id": "9b50d1b7-d709-4227-87cf-078f328b5c3e",
   "metadata": {},
   "source": [
    "### BaseLine"
   ]
  },
  {
   "cell_type": "markdown",
   "id": "bc1fee11-6e85-483e-bb29-784f5ccb73b0",
   "metadata": {},
   "source": [
    "В [базовом решении](https://www.kaggle.com/code/prampampam/baseline-popular-transactions/notebook) представлено две функции:\n",
    "1. топ10 MCC-кодов из train-части;\n",
    "2. cамые популярные транзакции пользователя."
   ]
  },
  {
   "cell_type": "markdown",
   "id": "39548550-cf56-4cf0-b994-c8160743012e",
   "metadata": {},
   "source": [
    "## EDA"
   ]
  },
  {
   "cell_type": "markdown",
   "id": "2702dd17-1005-491b-b01b-03c363070176",
   "metadata": {},
   "source": [
    "### Библиотеки"
   ]
  },
  {
   "cell_type": "code",
   "execution_count": 1,
   "id": "aec9549e-34e5-4b17-bf8d-52e07bedf8c7",
   "metadata": {},
   "outputs": [],
   "source": [
    "import numpy as np\n",
    "import pandas as pd\n",
    "import os\n",
    "import torch\n",
    "import warnings\n",
    "warnings.filterwarnings(\"ignore\")\n",
    "import matplotlib.pyplot as plt\n",
    "from collections import defaultdict\n",
    "\n",
    "from scipy.stats import pearsonr, spearmanr\n",
    "import scipy.stats as stats\n",
    "import seaborn as sns\n",
    "\n",
    "from typing import List, Tuple\n",
    "\n",
    "import logging\n",
    "from logging import getLogger\n",
    "\n",
    "from recbole.config import Config\n",
    "from recbole.data import create_dataset, data_preparation\n",
    "from recbole.model.sequential_recommender import GRU4Rec\n",
    "from recbole.trainer import Trainer\n",
    "from recbole.utils import init_logger\n",
    "from recbole.utils.case_study import full_sort_topk"
   ]
  },
  {
   "cell_type": "markdown",
   "id": "d40f5110-a7de-49f8-873c-78901b23217e",
   "metadata": {},
   "source": [
    "### Метрики с Baseline"
   ]
  },
  {
   "cell_type": "code",
   "execution_count": 2,
   "id": "a5169af9-5194-4f8a-8ff2-9b31458ce05c",
   "metadata": {},
   "outputs": [],
   "source": [
    "def apk(actual, predicted, k=10):\n",
    "    if len(predicted) > k:\n",
    "        predicted = predicted[:k]\n",
    "\n",
    "    score = 0.0\n",
    "    num_hits = 0.0\n",
    "\n",
    "    for i, p in enumerate(predicted):\n",
    "        if p in actual and p not in predicted[:i]:\n",
    "            num_hits += 1.0\n",
    "            score += num_hits / (i+1.0)\n",
    "\n",
    "    if not actual:\n",
    "        return 0.0\n",
    "\n",
    "    return score / min(len(actual), k)\n",
    "\n",
    "def mapk(actual, predicted, k=10):\n",
    "    return np.mean([apk(a, p, k) for a, p in zip(actual, predicted)])"
   ]
  },
  {
   "cell_type": "markdown",
   "id": "74fa081e-136b-47cf-9dc2-d2d6050dbf8d",
   "metadata": {},
   "source": [
    "### Получение данных"
   ]
  },
  {
   "cell_type": "code",
   "execution_count": 3,
   "id": "c9f11e6f-a16e-4ca1-8ada-baa756aac6e5",
   "metadata": {},
   "outputs": [],
   "source": [
    "df_train = pd.read_csv('df_train.csv', sep=';')\n",
    "df_test = pd.read_csv('df_test.csv', sep=';')"
   ]
  },
  {
   "cell_type": "code",
   "execution_count": 4,
   "id": "0dc405d8-67d8-4078-85d9-8bae8d3c9877",
   "metadata": {},
   "outputs": [],
   "source": [
    "df_train['Data'] = df_train.Data.apply(lambda s: list(map(int, s.split(','))))\n",
    "df_train['Target'] = df_train.Target.apply(lambda s: list(map(int, s.split(','))))\n",
    "df_test['Data'] = df_test.Data.apply(lambda s: list(map(int, s.split(','))))"
   ]
  },
  {
   "cell_type": "code",
   "execution_count": 5,
   "id": "7a2b117b-d475-4c41-b255-8556c9906c91",
   "metadata": {},
   "outputs": [
    {
     "data": {
      "text/html": [
       "<div>\n",
       "<style scoped>\n",
       "    .dataframe tbody tr th:only-of-type {\n",
       "        vertical-align: middle;\n",
       "    }\n",
       "\n",
       "    .dataframe tbody tr th {\n",
       "        vertical-align: top;\n",
       "    }\n",
       "\n",
       "    .dataframe thead th {\n",
       "        text-align: right;\n",
       "    }\n",
       "</style>\n",
       "<table border=\"1\" class=\"dataframe\">\n",
       "  <thead>\n",
       "    <tr style=\"text-align: right;\">\n",
       "      <th></th>\n",
       "      <th>Id</th>\n",
       "      <th>Data</th>\n",
       "      <th>Target</th>\n",
       "    </tr>\n",
       "  </thead>\n",
       "  <tbody>\n",
       "    <tr>\n",
       "      <th>0</th>\n",
       "      <td>0</td>\n",
       "      <td>[4814, 4814, 6010, 6011, 4814, 6011, 6011, 481...</td>\n",
       "      <td>[4814, 4814, 4814, 4814, 5411, 4814, 4814, 481...</td>\n",
       "    </tr>\n",
       "    <tr>\n",
       "      <th>1</th>\n",
       "      <td>1</td>\n",
       "      <td>[6011, 6011, 6011, 6011, 6011, 6011, 6011, 481...</td>\n",
       "      <td>[4814, 6011, 4814, 6011, 4814, 4814, 6011, 481...</td>\n",
       "    </tr>\n",
       "    <tr>\n",
       "      <th>2</th>\n",
       "      <td>2</td>\n",
       "      <td>[8021, 6011, 6011, 6010, 4829, 4814, 6011, 601...</td>\n",
       "      <td>[6011, 6011, 6010, 4829, 4829, 6010, 6011, 601...</td>\n",
       "    </tr>\n",
       "    <tr>\n",
       "      <th>3</th>\n",
       "      <td>3</td>\n",
       "      <td>[4814, 6011, 4814, 4814, 4814, 6011, 6011, 569...</td>\n",
       "      <td>[6011, 6011, 6010, 6011, 6011, 4814, 4814, 601...</td>\n",
       "    </tr>\n",
       "    <tr>\n",
       "      <th>4</th>\n",
       "      <td>4</td>\n",
       "      <td>[4814, 4814, 4814, 4814, 4814, 4814, 5946, 481...</td>\n",
       "      <td>[5499, 6011, 4814, 4829, 5200, 5411, 5499, 591...</td>\n",
       "    </tr>\n",
       "  </tbody>\n",
       "</table>\n",
       "</div>"
      ],
      "text/plain": [
       "   Id                                               Data  \\\n",
       "0   0  [4814, 4814, 6010, 6011, 4814, 6011, 6011, 481...   \n",
       "1   1  [6011, 6011, 6011, 6011, 6011, 6011, 6011, 481...   \n",
       "2   2  [8021, 6011, 6011, 6010, 4829, 4814, 6011, 601...   \n",
       "3   3  [4814, 6011, 4814, 4814, 4814, 6011, 6011, 569...   \n",
       "4   4  [4814, 4814, 4814, 4814, 4814, 4814, 5946, 481...   \n",
       "\n",
       "                                              Target  \n",
       "0  [4814, 4814, 4814, 4814, 5411, 4814, 4814, 481...  \n",
       "1  [4814, 6011, 4814, 6011, 4814, 4814, 6011, 481...  \n",
       "2  [6011, 6011, 6010, 4829, 4829, 6010, 6011, 601...  \n",
       "3  [6011, 6011, 6010, 6011, 6011, 4814, 4814, 601...  \n",
       "4  [5499, 6011, 4814, 4829, 5200, 5411, 5499, 591...  "
      ]
     },
     "execution_count": 5,
     "metadata": {},
     "output_type": "execute_result"
    }
   ],
   "source": [
    "df_train.head()"
   ]
  },
  {
   "cell_type": "markdown",
   "id": "2d19fdcd-397a-48cd-8e32-625cac849537",
   "metadata": {},
   "source": [
    "### Нахождение зависимостей"
   ]
  },
  {
   "cell_type": "markdown",
   "id": "522325ad-ab6c-4966-ac0c-f8e7a2a1587d",
   "metadata": {},
   "source": [
    "#### Корреляция между позицией MCC-кодов в Data и их позицией в целевой переменной Target"
   ]
  },
  {
   "cell_type": "code",
   "execution_count": 6,
   "id": "5488d8cf-3785-4564-8507-b3f4963cc1cd",
   "metadata": {},
   "outputs": [],
   "source": [
    "target_sequence = df_train['Target']"
   ]
  },
  {
   "cell_type": "code",
   "execution_count": 7,
   "id": "7ff7338d-fd21-4441-9ec6-54958c2bfa75",
   "metadata": {},
   "outputs": [],
   "source": [
    "# Функция для расчета весов позиций в целевой переменной\n",
    "def calculate_position_weights(target_sequence):\n",
    "    weights = defaultdict(int)\n",
    "    for sequence in target_sequence:\n",
    "        for i, mcc_code in enumerate(sequence):\n",
    "            weights[mcc_code] += i + 1  # Увеличиваем вес в зависимости от позиции\n",
    "    return weights"
   ]
  },
  {
   "cell_type": "code",
   "execution_count": 8,
   "id": "25c41b7e-7eb9-4137-8a9a-74ce523a3cda",
   "metadata": {},
   "outputs": [],
   "source": [
    "position_weights = calculate_position_weights(target_sequence)\n",
    "\n",
    "correlation_pearson = []\n",
    "correlation_spearman = []\n",
    "\n",
    "n_codes = 50 #кол-во последних элементов в Df.Train которые будут учитываться при рассчете корелляции"
   ]
  },
  {
   "cell_type": "code",
   "execution_count": 9,
   "id": "0de810f8-4796-4a64-8801-3ec8bc78e81b",
   "metadata": {},
   "outputs": [],
   "source": [
    "for i in range(len(df_train)):\n",
    "    data_mcc = df_train.iloc[i]['Data'][:n_codes]  # Получение первых n_codes MCC-кодов из Data\n",
    "    target_mcc = df_train.iloc[i]['Target']  # Список Target для каждой строки\n",
    "    \n",
    "    # Создание позиционных признаков для первых n_codes MCC-кодов из Data с использованием весов\n",
    "    position_features = []\n",
    "    for mcc in target_mcc:\n",
    "        position = position_weights[mcc] if mcc in position_weights else -1\n",
    "        position_features.append(position)\n",
    "    \n",
    "    # Расчет корреляции Пирсона и Спирмена для каждой пары MCC-кодов и весов\n",
    "    pearson_corr, _ = pearsonr(position_features, range(len(position_features)))\n",
    "    spearman_corr, _ = spearmanr(position_features, range(len(position_features)))\n",
    "    \n",
    "    # Добавление корреляции в список\n",
    "    correlation_pearson.append(pearson_corr)\n",
    "    correlation_spearman.append(spearman_corr)"
   ]
  },
  {
   "cell_type": "code",
   "execution_count": 10,
   "id": "6788769d-1d3f-4dc4-9e19-b6b635689d1b",
   "metadata": {},
   "outputs": [
    {
     "data": {
      "image/png": "[encoded data removed]",
      "text/plain": [
       "<Figure size 1000x600 with 2 Axes>"
      ]
     },
     "metadata": {},
     "output_type": "display_data"
    }
   ],
   "source": [
    "#Построение графиков корелляций\n",
    "plt.figure(figsize=(10, 6))\n",
    "plt.subplot(2, 1, 1)\n",
    "plt.bar(range(len(correlation_pearson)), correlation_pearson)\n",
    "plt.title('Корреляция Пирсона между позициями и целевой переменной')\n",
    "plt.xlabel('Id')\n",
    "plt.ylabel('Корреляция Пирсона')\n",
    "\n",
    "plt.subplot(2, 1, 2)\n",
    "plt.bar(range(len(correlation_spearman)), correlation_spearman)\n",
    "plt.title('Корреляция Спирмена между позициями и целевой переменной')\n",
    "plt.xlabel('Id')\n",
    "plt.ylabel('Корреляция Спирмена')\n",
    "\n",
    "plt.tight_layout()\n",
    "plt.show()"
   ]
  },
  {
   "cell_type": "markdown",
   "id": "762c92cf-61b6-4941-8cd1-fbbf43187630",
   "metadata": {},
   "source": [
    "#### Распределение длин историй клиентов"
   ]
  },
  {
   "cell_type": "code",
   "execution_count": 11,
   "id": "3d8b80ff-d0d7-43ac-9060-78290b84a21a",
   "metadata": {},
   "outputs": [
    {
     "data": {
      "text/plain": [
       "(0.0, 1000.0)"
      ]
     },
     "execution_count": 11,
     "metadata": {},
     "output_type": "execute_result"
    },
    {
     "data": {
      "image/png": "[encoded data removed]",
      "text/plain": [
       "<Figure size 500x500 with 1 Axes>"
      ]
     },
     "metadata": {},
     "output_type": "display_data"
    }
   ],
   "source": [
    "plt.figure(figsize=(8, 6), dpi=100)\n",
    "df_train.Data.apply(len).hist(figsize = (5,5), bins = 1000)\n",
    "plt.xlim(right=1000)\n",
    "plt.xlim(left=0)"
   ]
  },
  {
   "cell_type": "markdown",
   "id": "9f4118b5-972b-4d57-8403-b8428f2908aa",
   "metadata": {},
   "source": [
    "#### Нормальное ли распределение длин историй в train и в test"
   ]
  },
  {
   "cell_type": "code",
   "execution_count": 12,
   "id": "48daf28a-0f7f-49c6-b8f0-d126c93fccbb",
   "metadata": {},
   "outputs": [
    {
     "name": "stdout",
     "output_type": "stream",
     "text": [
      "ShapiroResult(statistic=0.12388652563095093, pvalue=0.0) ShapiroResult(statistic=0.3093855381011963, pvalue=0.0)\n"
     ]
    }
   ],
   "source": [
    "count_train_data = []\n",
    "count_test_data = []\n",
    "\n",
    "for client in df_train.Data:\n",
    "  count_train_data.append(len(client))\n",
    "\n",
    "for client in df_test.Data:\n",
    "  count_test_data.append(len(client))\n",
    "    \n",
    "shapiro_train_test = stats.shapiro(count_test_data)\n",
    "shapiro_train_train = stats.shapiro(count_train_data)\n",
    "print(shapiro_train_test, shapiro_train_train)"
   ]
  },
  {
   "cell_type": "markdown",
   "id": "e63c49ec-f706-43c8-ac7b-250c7fd409df",
   "metadata": {},
   "source": [
    "**Критерий Шапиро-Уилка** используется для проверки гипотезы **H0**: «случайная величина  **X** распределена нормально» и является одним наиболее эффективных критериев проверки нормальности. Смотрим на pvalue - это вероятность, при верности нулевой гипотезы, получить такое же значение наблюдаемой статистики или еще более экстремально. У нас pvalue = 0.0 => гипотеза отвергается."
   ]
  },
  {
   "cell_type": "markdown",
   "id": "c1a9220f-7cd2-4bef-86a0-4bc0a3b81649",
   "metadata": {},
   "source": [
    "## NO_ML Решение"
   ]
  },
  {
   "cell_type": "markdown",
   "id": "237b3004-d4e4-4009-ba0c-e2fb01def69c",
   "metadata": {},
   "source": [
    "Так как MCC коды расположены в хронологическом порядке и присутствует линейная зависимость между их позициями в Data и Target, то модель будет учитывать временной аспект транзакций, присваивая более высокий вес более поздним транзакциям в последовательности. Например, если у нас есть входная последовательность [1, 2, 2, 3, 3, 3, 3, 3], то выходная последовательность начнется с [3, 2, 1 ...]. Это связано с тем, что сумма позиций для кода '2' (2+3=5), для кода '1' (1), для кода '3' (4+5+6+7+8=30)\""
   ]
  },
  {
   "cell_type": "code",
   "execution_count": 13,
   "id": "17d4ab04-96d6-4f77-ac7b-48487ee2d676",
   "metadata": {},
   "outputs": [
    {
     "name": "stdout",
     "output_type": "stream",
     "text": [
      "0.3364563260727771\n"
     ]
    }
   ],
   "source": [
    "total_top_10 = (df_train['Data'] + df_train['Target'] + df_test['Data']).explode().value_counts(ascending=False).index[:10]\n",
    "\n",
    "# Определение максимальной длины последовательности транзакций\n",
    "alpha = 2.1\n",
    "sequence_length = int(np.mean([len(x) for x in df_test['Data']]) / alpha)\n",
    "\n",
    "def top_codes_by_probability(seq, cutoff=sequence_length, drop_from=5):\n",
    "    seq = seq[-cutoff:]\n",
    "    seq_length = len(seq)\n",
    "    # Расчет суммы всех индексов в последовательности кодов\n",
    "    sum_of_positions = seq_length * (seq_length + 1) / 2\n",
    "    probabilities = {}\n",
    "\n",
    "    for code in np.unique(seq):\n",
    "        # Определение позиций, на которых код встречается в последовательности\n",
    "        positions = np.where(np.array(seq) == code)[0] + 1\n",
    "        if len(positions) >= drop_from:\n",
    "            # Вычисление вероятности кода для последовательности как отношение суммы его позиций к общей сумме всех индексов\n",
    "            probabilities[code] = sum(positions) / sum_of_positions\n",
    "    \n",
    "    output = sorted(probabilities, key=probabilities.get, reverse=True)\n",
    "    \n",
    "    if len(output) < 10:\n",
    "        # Добавление кодов из общего топ-10, если выходная последовательность содержит меньше 10 элементов\n",
    "        output += [x for x in total_top_10 if x not in output]\n",
    "\n",
    "    return output[:10]\n",
    "\n",
    "# Применение функции для получения последовательности топ-10 кодов\n",
    "no_ml_result = df_train['Data'].apply(top_codes_by_probability, drop_from=2)\n",
    "\n",
    "# Вывод результата метрики mapk\n",
    "print(mapk(df_train['Target'], no_ml_result))"
   ]
  },
  {
   "cell_type": "markdown",
   "id": "f774f2a1-ff00-4068-b558-fba973b150d1",
   "metadata": {},
   "source": [
    "## Ml решение"
   ]
  },
  {
   "cell_type": "markdown",
   "id": "848af7df-a942-416f-85f4-0f64264daa65",
   "metadata": {},
   "source": [
    "[Научная статья](https://arxiv.org/abs/1511.06939) 2015-го года о *session-based recommendations*. В ней авторы предлагают использовать рекуррентные нейронные сети (*RNN*) с механизмом *GRU* (*gated recurrent unit*) для задачи рекомендаций.\n",
    "\n",
    "Именно они изобрели модель *GRU4Rec*, ставшей повсеместным бейзлайном для последовательных рекомендаций (*sequential recommendations*). Эта модель будет использоваться для предсказания 10 наиболее вероятных следующих MCC-кодов клиента.\n",
    "\n",
    "На [*paperswithcode*](https://paperswithcode.com/task/sequential-recommendation) описана реализация *GRU4Rec* в библиотеке [*RecBole*](https://recbole.io/docs/index.html)."
   ]
  },
  {
   "cell_type": "markdown",
   "id": "4368b472-1174-4eff-93c3-32f39e888e49",
   "metadata": {},
   "source": [
    "#### Подготовка данных"
   ]
  },
  {
   "cell_type": "markdown",
   "id": "607b988f-a8c8-43bc-94ef-187946cd9721",
   "metadata": {},
   "source": [
    "Для обучения модели объединяем тренировочную и тестовую выборки. \n",
    "Объединяем столбцы `data` и `target` в тренировочном датасете:"
   ]
  },
  {
   "cell_type": "code",
   "execution_count": 14,
   "id": "b6c8f8ee-450a-4db9-92fd-d4a8ff86362b",
   "metadata": {},
   "outputs": [],
   "source": [
    "train_data = df_train.apply(lambda row: row[1] + row[2], axis=1).reset_index()\n",
    "test_data = df_test.copy()"
   ]
  },
  {
   "cell_type": "code",
   "execution_count": 15,
   "id": "9b87a628-708c-43ce-be03-e49ec0b80b08",
   "metadata": {},
   "outputs": [
    {
     "data": {
      "text/html": [
       "<div>\n",
       "<style scoped>\n",
       "    .dataframe tbody tr th:only-of-type {\n",
       "        vertical-align: middle;\n",
       "    }\n",
       "\n",
       "    .dataframe tbody tr th {\n",
       "        vertical-align: top;\n",
       "    }\n",
       "\n",
       "    .dataframe thead th {\n",
       "        text-align: right;\n",
       "    }\n",
       "</style>\n",
       "<table border=\"1\" class=\"dataframe\">\n",
       "  <thead>\n",
       "    <tr style=\"text-align: right;\">\n",
       "      <th></th>\n",
       "      <th>user_id</th>\n",
       "      <th>item_ids</th>\n",
       "    </tr>\n",
       "  </thead>\n",
       "  <tbody>\n",
       "    <tr>\n",
       "      <th>0</th>\n",
       "      <td>0</td>\n",
       "      <td>[4814, 4814, 6010, 6011, 4814, 6011, 6011, 481...</td>\n",
       "    </tr>\n",
       "    <tr>\n",
       "      <th>1</th>\n",
       "      <td>1</td>\n",
       "      <td>[6011, 6011, 6011, 6011, 6011, 6011, 6011, 481...</td>\n",
       "    </tr>\n",
       "    <tr>\n",
       "      <th>2</th>\n",
       "      <td>2</td>\n",
       "      <td>[8021, 6011, 6011, 6010, 4829, 4814, 6011, 601...</td>\n",
       "    </tr>\n",
       "    <tr>\n",
       "      <th>3</th>\n",
       "      <td>3</td>\n",
       "      <td>[4814, 6011, 4814, 4814, 4814, 6011, 6011, 569...</td>\n",
       "    </tr>\n",
       "    <tr>\n",
       "      <th>4</th>\n",
       "      <td>4</td>\n",
       "      <td>[4814, 4814, 4814, 4814, 4814, 4814, 5946, 481...</td>\n",
       "    </tr>\n",
       "  </tbody>\n",
       "</table>\n",
       "</div>"
      ],
      "text/plain": [
       "   user_id                                           item_ids\n",
       "0        0  [4814, 4814, 6010, 6011, 4814, 6011, 6011, 481...\n",
       "1        1  [6011, 6011, 6011, 6011, 6011, 6011, 6011, 481...\n",
       "2        2  [8021, 6011, 6011, 6010, 4829, 4814, 6011, 601...\n",
       "3        3  [4814, 6011, 4814, 4814, 4814, 6011, 6011, 569...\n",
       "4        4  [4814, 4814, 4814, 4814, 4814, 4814, 5946, 481..."
      ]
     },
     "metadata": {},
     "output_type": "display_data"
    },
    {
     "data": {
      "text/html": [
       "<div>\n",
       "<style scoped>\n",
       "    .dataframe tbody tr th:only-of-type {\n",
       "        vertical-align: middle;\n",
       "    }\n",
       "\n",
       "    .dataframe tbody tr th {\n",
       "        vertical-align: top;\n",
       "    }\n",
       "\n",
       "    .dataframe thead th {\n",
       "        text-align: right;\n",
       "    }\n",
       "</style>\n",
       "<table border=\"1\" class=\"dataframe\">\n",
       "  <thead>\n",
       "    <tr style=\"text-align: right;\">\n",
       "      <th></th>\n",
       "      <th>user_id</th>\n",
       "      <th>item_ids</th>\n",
       "    </tr>\n",
       "  </thead>\n",
       "  <tbody>\n",
       "    <tr>\n",
       "      <th>0</th>\n",
       "      <td>0</td>\n",
       "      <td>[4814, 4814, 6011, 6011, 6010, 6011, 6011, 481...</td>\n",
       "    </tr>\n",
       "    <tr>\n",
       "      <th>1</th>\n",
       "      <td>1</td>\n",
       "      <td>[6010, 6011, 6010, 5411, 5411, 5977, 6011, 601...</td>\n",
       "    </tr>\n",
       "    <tr>\n",
       "      <th>2</th>\n",
       "      <td>2</td>\n",
       "      <td>[4814, 6011, 5251, 6011, 7832, 5641, 5814, 482...</td>\n",
       "    </tr>\n",
       "    <tr>\n",
       "      <th>3</th>\n",
       "      <td>3</td>\n",
       "      <td>[6011, 4722, 4722, 4722, 4814, 6011, 6011, 482...</td>\n",
       "    </tr>\n",
       "    <tr>\n",
       "      <th>4</th>\n",
       "      <td>4</td>\n",
       "      <td>[4814, 4814, 4814, 6011, 4814, 4814, 4814, 481...</td>\n",
       "    </tr>\n",
       "  </tbody>\n",
       "</table>\n",
       "</div>"
      ],
      "text/plain": [
       "   user_id                                           item_ids\n",
       "0        0  [4814, 4814, 6011, 6011, 6010, 6011, 6011, 481...\n",
       "1        1  [6010, 6011, 6010, 5411, 5411, 5977, 6011, 601...\n",
       "2        2  [4814, 6011, 5251, 6011, 7832, 5641, 5814, 482...\n",
       "3        3  [6011, 4722, 4722, 4722, 4814, 6011, 6011, 482...\n",
       "4        4  [4814, 4814, 4814, 6011, 4814, 4814, 4814, 481..."
      ]
     },
     "metadata": {},
     "output_type": "display_data"
    }
   ],
   "source": [
    "train_data.columns = ['user_id', 'item_ids']\n",
    "test_data.columns = ['user_id', 'item_ids']\n",
    "display(train_data.head())\n",
    "display(test_data.head())"
   ]
  },
  {
   "cell_type": "markdown",
   "id": "d0f98ec4-310c-491f-bbb3-739cb26ed80d",
   "metadata": {},
   "source": [
    "Перед объединением присваиваем новые `user_id` клиентам из тренировочного датасета:"
   ]
  },
  {
   "cell_type": "code",
   "execution_count": 16,
   "id": "3c88c858-6379-4eb1-aaaf-e06b553206c1",
   "metadata": {},
   "outputs": [
    {
     "data": {
      "text/html": [
       "<div>\n",
       "<style scoped>\n",
       "    .dataframe tbody tr th:only-of-type {\n",
       "        vertical-align: middle;\n",
       "    }\n",
       "\n",
       "    .dataframe tbody tr th {\n",
       "        vertical-align: top;\n",
       "    }\n",
       "\n",
       "    .dataframe thead th {\n",
       "        text-align: right;\n",
       "    }\n",
       "</style>\n",
       "<table border=\"1\" class=\"dataframe\">\n",
       "  <thead>\n",
       "    <tr style=\"text-align: right;\">\n",
       "      <th></th>\n",
       "      <th>user_id</th>\n",
       "      <th>item_ids</th>\n",
       "    </tr>\n",
       "  </thead>\n",
       "  <tbody>\n",
       "    <tr>\n",
       "      <th>0</th>\n",
       "      <td>7033</td>\n",
       "      <td>[4814, 4814, 6010, 6011, 4814, 6011, 6011, 481...</td>\n",
       "    </tr>\n",
       "    <tr>\n",
       "      <th>1</th>\n",
       "      <td>7034</td>\n",
       "      <td>[6011, 6011, 6011, 6011, 6011, 6011, 6011, 481...</td>\n",
       "    </tr>\n",
       "    <tr>\n",
       "      <th>2</th>\n",
       "      <td>7035</td>\n",
       "      <td>[8021, 6011, 6011, 6010, 4829, 4814, 6011, 601...</td>\n",
       "    </tr>\n",
       "    <tr>\n",
       "      <th>3</th>\n",
       "      <td>7036</td>\n",
       "      <td>[4814, 6011, 4814, 4814, 4814, 6011, 6011, 569...</td>\n",
       "    </tr>\n",
       "    <tr>\n",
       "      <th>4</th>\n",
       "      <td>7037</td>\n",
       "      <td>[4814, 4814, 4814, 4814, 4814, 4814, 5946, 481...</td>\n",
       "    </tr>\n",
       "  </tbody>\n",
       "</table>\n",
       "</div>"
      ],
      "text/plain": [
       "   user_id                                           item_ids\n",
       "0     7033  [4814, 4814, 6010, 6011, 4814, 6011, 6011, 481...\n",
       "1     7034  [6011, 6011, 6011, 6011, 6011, 6011, 6011, 481...\n",
       "2     7035  [8021, 6011, 6011, 6010, 4829, 4814, 6011, 601...\n",
       "3     7036  [4814, 6011, 4814, 4814, 4814, 6011, 6011, 569...\n",
       "4     7037  [4814, 4814, 4814, 4814, 4814, 4814, 5946, 481..."
      ]
     },
     "execution_count": 16,
     "metadata": {},
     "output_type": "execute_result"
    }
   ],
   "source": [
    "train_data['user_id'] = range(7033, 7033 * 2)\n",
    "train_data.head()"
   ]
  },
  {
   "cell_type": "markdown",
   "id": "d1c78d8b-de50-4a2a-8645-0a3beb4088c0",
   "metadata": {},
   "source": [
    "Объединяем датафреймы в один для обучения модели и предсказаний:"
   ]
  },
  {
   "cell_type": "code",
   "execution_count": 17,
   "id": "8abe8001-49e6-492e-befd-28de8878717b",
   "metadata": {},
   "outputs": [
    {
     "data": {
      "text/html": [
       "<div>\n",
       "<style scoped>\n",
       "    .dataframe tbody tr th:only-of-type {\n",
       "        vertical-align: middle;\n",
       "    }\n",
       "\n",
       "    .dataframe tbody tr th {\n",
       "        vertical-align: top;\n",
       "    }\n",
       "\n",
       "    .dataframe thead th {\n",
       "        text-align: right;\n",
       "    }\n",
       "</style>\n",
       "<table border=\"1\" class=\"dataframe\">\n",
       "  <thead>\n",
       "    <tr style=\"text-align: right;\">\n",
       "      <th></th>\n",
       "      <th>user_id</th>\n",
       "      <th>item_ids</th>\n",
       "    </tr>\n",
       "  </thead>\n",
       "  <tbody>\n",
       "    <tr>\n",
       "      <th>0</th>\n",
       "      <td>0</td>\n",
       "      <td>[4814, 4814, 6011, 6011, 6010, 6011, 6011, 481...</td>\n",
       "    </tr>\n",
       "    <tr>\n",
       "      <th>1</th>\n",
       "      <td>1</td>\n",
       "      <td>[6010, 6011, 6010, 5411, 5411, 5977, 6011, 601...</td>\n",
       "    </tr>\n",
       "    <tr>\n",
       "      <th>2</th>\n",
       "      <td>2</td>\n",
       "      <td>[4814, 6011, 5251, 6011, 7832, 5641, 5814, 482...</td>\n",
       "    </tr>\n",
       "    <tr>\n",
       "      <th>3</th>\n",
       "      <td>3</td>\n",
       "      <td>[6011, 4722, 4722, 4722, 4814, 6011, 6011, 482...</td>\n",
       "    </tr>\n",
       "    <tr>\n",
       "      <th>4</th>\n",
       "      <td>4</td>\n",
       "      <td>[4814, 4814, 4814, 6011, 4814, 4814, 4814, 481...</td>\n",
       "    </tr>\n",
       "  </tbody>\n",
       "</table>\n",
       "</div>"
      ],
      "text/plain": [
       "   user_id                                           item_ids\n",
       "0        0  [4814, 4814, 6011, 6011, 6010, 6011, 6011, 481...\n",
       "1        1  [6010, 6011, 6010, 5411, 5411, 5977, 6011, 601...\n",
       "2        2  [4814, 6011, 5251, 6011, 7832, 5641, 5814, 482...\n",
       "3        3  [6011, 4722, 4722, 4722, 4814, 6011, 6011, 482...\n",
       "4        4  [4814, 4814, 4814, 6011, 4814, 4814, 4814, 481..."
      ]
     },
     "metadata": {},
     "output_type": "display_data"
    },
    {
     "data": {
      "text/html": [
       "<div>\n",
       "<style scoped>\n",
       "    .dataframe tbody tr th:only-of-type {\n",
       "        vertical-align: middle;\n",
       "    }\n",
       "\n",
       "    .dataframe tbody tr th {\n",
       "        vertical-align: top;\n",
       "    }\n",
       "\n",
       "    .dataframe thead th {\n",
       "        text-align: right;\n",
       "    }\n",
       "</style>\n",
       "<table border=\"1\" class=\"dataframe\">\n",
       "  <thead>\n",
       "    <tr style=\"text-align: right;\">\n",
       "      <th></th>\n",
       "      <th>user_id</th>\n",
       "      <th>item_ids</th>\n",
       "    </tr>\n",
       "  </thead>\n",
       "  <tbody>\n",
       "    <tr>\n",
       "      <th>7028</th>\n",
       "      <td>14061</td>\n",
       "      <td>[6010, 4829, 6011, 6011, 6011, 6010, 6011, 601...</td>\n",
       "    </tr>\n",
       "    <tr>\n",
       "      <th>7029</th>\n",
       "      <td>14062</td>\n",
       "      <td>[4814, 5699, 5641, 5411, 6010, 6011, 4814, 601...</td>\n",
       "    </tr>\n",
       "    <tr>\n",
       "      <th>7030</th>\n",
       "      <td>14063</td>\n",
       "      <td>[6011, 6011, 6011, 6011, 6011, 6011, 6011, 601...</td>\n",
       "    </tr>\n",
       "    <tr>\n",
       "      <th>7031</th>\n",
       "      <td>14064</td>\n",
       "      <td>[4814, 4814, 5411, 6011, 6011, 4814, 4814, 481...</td>\n",
       "    </tr>\n",
       "    <tr>\n",
       "      <th>7032</th>\n",
       "      <td>14065</td>\n",
       "      <td>[6011, 6011, 6011, 6011, 5541, 4814, 6011, 601...</td>\n",
       "    </tr>\n",
       "  </tbody>\n",
       "</table>\n",
       "</div>"
      ],
      "text/plain": [
       "      user_id                                           item_ids\n",
       "7028    14061  [6010, 4829, 6011, 6011, 6011, 6010, 6011, 601...\n",
       "7029    14062  [4814, 5699, 5641, 5411, 6010, 6011, 4814, 601...\n",
       "7030    14063  [6011, 6011, 6011, 6011, 6011, 6011, 6011, 601...\n",
       "7031    14064  [4814, 4814, 5411, 6011, 6011, 4814, 4814, 481...\n",
       "7032    14065  [6011, 6011, 6011, 6011, 5541, 4814, 6011, 601..."
      ]
     },
     "execution_count": 17,
     "metadata": {},
     "output_type": "execute_result"
    }
   ],
   "source": [
    "full_train = pd.concat([test_data, train_data])\n",
    "\n",
    "# Проверяем, что строк в новом датафрейме вдвое больше, чем в train\n",
    "assert full_train.shape[0] == train_data.shape[0] * 2\n",
    "\n",
    "display(full_train.head())\n",
    "full_train.tail()"
   ]
  },
  {
   "cell_type": "markdown",
   "id": "03982ae7-ff89-4cbf-9842-da8ce07c843e",
   "metadata": {},
   "source": [
    "#### Форматирование данных для RecBole"
   ]
  },
  {
   "cell_type": "markdown",
   "id": "6578ccbe-adf1-4bc3-964c-cac88efd9eeb",
   "metadata": {},
   "source": [
    "Используемая библиотека *RecBole* принимает для обучения файлы определённого формата — [*Atomic*](https://recbole.io/docs/user_guide/data/atomic_files.html).  \n",
    "\n",
    "Для примера в документации *RecBole* представлен сэмпл корректного форматирования популярного *RecSys* датасета `ml-100k` в формате *Atomic*."
   ]
  },
  {
   "cell_type": "code",
   "execution_count": 18,
   "id": "c4ac9d77-eb36-4fad-9120-ee0f9d2f536b",
   "metadata": {},
   "outputs": [
    {
     "data": {
      "text/html": [
       "<div>\n",
       "<style scoped>\n",
       "    .dataframe tbody tr th:only-of-type {\n",
       "        vertical-align: middle;\n",
       "    }\n",
       "\n",
       "    .dataframe tbody tr th {\n",
       "        vertical-align: top;\n",
       "    }\n",
       "\n",
       "    .dataframe thead th {\n",
       "        text-align: right;\n",
       "    }\n",
       "</style>\n",
       "<table border=\"1\" class=\"dataframe\">\n",
       "  <thead>\n",
       "    <tr style=\"text-align: right;\">\n",
       "      <th></th>\n",
       "      <th>user_id:token</th>\n",
       "      <th>item_id:token</th>\n",
       "      <th>rating:float</th>\n",
       "      <th>timestamp:float</th>\n",
       "    </tr>\n",
       "  </thead>\n",
       "  <tbody>\n",
       "    <tr>\n",
       "      <th>0</th>\n",
       "      <td>196</td>\n",
       "      <td>242</td>\n",
       "      <td>3</td>\n",
       "      <td>881250949</td>\n",
       "    </tr>\n",
       "    <tr>\n",
       "      <th>1</th>\n",
       "      <td>186</td>\n",
       "      <td>302</td>\n",
       "      <td>3</td>\n",
       "      <td>891717742</td>\n",
       "    </tr>\n",
       "    <tr>\n",
       "      <th>2</th>\n",
       "      <td>22</td>\n",
       "      <td>377</td>\n",
       "      <td>1</td>\n",
       "      <td>878887116</td>\n",
       "    </tr>\n",
       "    <tr>\n",
       "      <th>3</th>\n",
       "      <td>244</td>\n",
       "      <td>51</td>\n",
       "      <td>2</td>\n",
       "      <td>880606923</td>\n",
       "    </tr>\n",
       "    <tr>\n",
       "      <th>4</th>\n",
       "      <td>166</td>\n",
       "      <td>346</td>\n",
       "      <td>1</td>\n",
       "      <td>886397596</td>\n",
       "    </tr>\n",
       "  </tbody>\n",
       "</table>\n",
       "</div>"
      ],
      "text/plain": [
       "   user_id:token  item_id:token  rating:float  timestamp:float\n",
       "0            196            242             3        881250949\n",
       "1            186            302             3        891717742\n",
       "2             22            377             1        878887116\n",
       "3            244             51             2        880606923\n",
       "4            166            346             1        886397596"
      ]
     },
     "execution_count": 18,
     "metadata": {},
     "output_type": "execute_result"
    }
   ],
   "source": [
    "file_path = \\\n",
    "'ml-100k\\ml-100k.inter'\n",
    "ml_100k = pd.read_csv(file_path, sep='\\t')\n",
    "ml_100k.head()"
   ]
  },
  {
   "cell_type": "markdown",
   "id": "53b5aed0-1bdb-42a0-b9d1-179859ae0ea1",
   "metadata": {},
   "source": [
    "То есть нужно будет развернуть данные по типу один `user_id` - одно наблюдение, а также добавить `timestamp` — последовательные рекомендательные модели типа GRU4Rec в библиотеке не работают без столбца со временем."
   ]
  },
  {
   "cell_type": "markdown",
   "id": "2d20df0d-1c8d-44f3-9472-18540cf5d13c",
   "metadata": {},
   "source": [
    "Условно разделяем транзакции по времени. У каждого клиента самая недавняя транзакция пусть будет в `timestamp` 150 000 000, а каждая предшествующая — по 6 часов (21 600 сек.) раньше:"
   ]
  },
  {
   "cell_type": "code",
   "execution_count": 19,
   "id": "52a0a08c-8967-4474-9aff-839f898b4bc5",
   "metadata": {},
   "outputs": [],
   "source": [
    "origin = 150_000_0000\n",
    "period = 21_600\n",
    "\n",
    "def add_timestamp(arr: List[str]) -> List[Tuple[str, int]]:\n",
    "    '''\n",
    "    Функция принимает на вход последовательный список с MCC-кодами,\n",
    "    возвращает список с кортежами (MCC-код, timestamp)\n",
    "    '''\n",
    "    new_arr_rev = []\n",
    "    for i, elem in enumerate(reversed(arr)):\n",
    "        new_arr_rev.append((elem, origin - (i * period)))\n",
    "    return new_arr_rev[::-1]"
   ]
  },
  {
   "cell_type": "code",
   "execution_count": 20,
   "id": "f40790c1-8f67-4955-8335-4816feb2a6e2",
   "metadata": {},
   "outputs": [],
   "source": [
    "full_train['item_timestamp'] = full_train['item_ids'].apply(add_timestamp)"
   ]
  },
  {
   "cell_type": "code",
   "execution_count": 21,
   "id": "acbb6495-d7ca-4d63-97df-6a6336475598",
   "metadata": {},
   "outputs": [],
   "source": [
    "full_train = full_train[['user_id', 'item_timestamp']]"
   ]
  },
  {
   "cell_type": "markdown",
   "id": "f85d4d80-54a7-4990-8806-85d4f53a5be9",
   "metadata": {},
   "source": [
    "Преобразуем датафрейм по типу одна транзакция - одна строка:"
   ]
  },
  {
   "cell_type": "code",
   "execution_count": 22,
   "id": "2566dd00-b3b0-436d-88d8-e3a2cf43d9d1",
   "metadata": {},
   "outputs": [
    {
     "data": {
      "text/html": [
       "<div>\n",
       "<style scoped>\n",
       "    .dataframe tbody tr th:only-of-type {\n",
       "        vertical-align: middle;\n",
       "    }\n",
       "\n",
       "    .dataframe tbody tr th {\n",
       "        vertical-align: top;\n",
       "    }\n",
       "\n",
       "    .dataframe thead th {\n",
       "        text-align: right;\n",
       "    }\n",
       "</style>\n",
       "<table border=\"1\" class=\"dataframe\">\n",
       "  <thead>\n",
       "    <tr style=\"text-align: right;\">\n",
       "      <th></th>\n",
       "      <th>user_id</th>\n",
       "      <th>item_timestamp</th>\n",
       "    </tr>\n",
       "  </thead>\n",
       "  <tbody>\n",
       "    <tr>\n",
       "      <th>0</th>\n",
       "      <td>0</td>\n",
       "      <td>(4814, 1495183200)</td>\n",
       "    </tr>\n",
       "    <tr>\n",
       "      <th>1</th>\n",
       "      <td>0</td>\n",
       "      <td>(4814, 1495204800)</td>\n",
       "    </tr>\n",
       "    <tr>\n",
       "      <th>2</th>\n",
       "      <td>0</td>\n",
       "      <td>(6011, 1495226400)</td>\n",
       "    </tr>\n",
       "    <tr>\n",
       "      <th>3</th>\n",
       "      <td>0</td>\n",
       "      <td>(6011, 1495248000)</td>\n",
       "    </tr>\n",
       "    <tr>\n",
       "      <th>4</th>\n",
       "      <td>0</td>\n",
       "      <td>(6010, 1495269600)</td>\n",
       "    </tr>\n",
       "  </tbody>\n",
       "</table>\n",
       "</div>"
      ],
      "text/plain": [
       "   user_id      item_timestamp\n",
       "0        0  (4814, 1495183200)\n",
       "1        0  (4814, 1495204800)\n",
       "2        0  (6011, 1495226400)\n",
       "3        0  (6011, 1495248000)\n",
       "4        0  (6010, 1495269600)"
      ]
     },
     "execution_count": 22,
     "metadata": {},
     "output_type": "execute_result"
    }
   ],
   "source": [
    "full_exploded = full_train.explode('item_timestamp').reset_index(drop=True)\n",
    "full_exploded.head()"
   ]
  },
  {
   "cell_type": "markdown",
   "id": "463a6144-346f-4baa-95c6-222bd7ae5e0c",
   "metadata": {},
   "source": [
    "Выделяем MCC-код и `timestamp` в отдельные столбцы:"
   ]
  },
  {
   "cell_type": "code",
   "execution_count": 23,
   "id": "03bcb3ca-4dad-4ef1-9694-2cf5c93035b6",
   "metadata": {},
   "outputs": [],
   "source": [
    "full_exploded['item_id'] = \\\n",
    "full_exploded['item_timestamp'].apply(lambda arr: arr[0])\n",
    "\n",
    "full_exploded['timestamp'] = \\\n",
    "full_exploded['item_timestamp'].apply(lambda arr: arr[1])\n",
    "\n",
    "full_exploded = full_exploded.drop('item_timestamp', axis=1)"
   ]
  },
  {
   "cell_type": "code",
   "execution_count": 24,
   "id": "44f18010-a04b-4d36-816b-e092a66334a4",
   "metadata": {},
   "outputs": [
    {
     "data": {
      "text/html": [
       "<div>\n",
       "<style scoped>\n",
       "    .dataframe tbody tr th:only-of-type {\n",
       "        vertical-align: middle;\n",
       "    }\n",
       "\n",
       "    .dataframe tbody tr th {\n",
       "        vertical-align: top;\n",
       "    }\n",
       "\n",
       "    .dataframe thead th {\n",
       "        text-align: right;\n",
       "    }\n",
       "</style>\n",
       "<table border=\"1\" class=\"dataframe\">\n",
       "  <thead>\n",
       "    <tr style=\"text-align: right;\">\n",
       "      <th></th>\n",
       "      <th>user_id</th>\n",
       "      <th>item_id</th>\n",
       "      <th>timestamp</th>\n",
       "    </tr>\n",
       "  </thead>\n",
       "  <tbody>\n",
       "    <tr>\n",
       "      <th>0</th>\n",
       "      <td>0</td>\n",
       "      <td>4814</td>\n",
       "      <td>1495183200</td>\n",
       "    </tr>\n",
       "    <tr>\n",
       "      <th>1</th>\n",
       "      <td>0</td>\n",
       "      <td>4814</td>\n",
       "      <td>1495204800</td>\n",
       "    </tr>\n",
       "    <tr>\n",
       "      <th>2</th>\n",
       "      <td>0</td>\n",
       "      <td>6011</td>\n",
       "      <td>1495226400</td>\n",
       "    </tr>\n",
       "    <tr>\n",
       "      <th>3</th>\n",
       "      <td>0</td>\n",
       "      <td>6011</td>\n",
       "      <td>1495248000</td>\n",
       "    </tr>\n",
       "    <tr>\n",
       "      <th>4</th>\n",
       "      <td>0</td>\n",
       "      <td>6010</td>\n",
       "      <td>1495269600</td>\n",
       "    </tr>\n",
       "  </tbody>\n",
       "</table>\n",
       "</div>"
      ],
      "text/plain": [
       "   user_id  item_id   timestamp\n",
       "0        0     4814  1495183200\n",
       "1        0     4814  1495204800\n",
       "2        0     6011  1495226400\n",
       "3        0     6011  1495248000\n",
       "4        0     6010  1495269600"
      ]
     },
     "metadata": {},
     "output_type": "display_data"
    },
    {
     "data": {
      "text/plain": [
       "(6752236, 3)"
      ]
     },
     "execution_count": 24,
     "metadata": {},
     "output_type": "execute_result"
    }
   ],
   "source": [
    "display(full_exploded.head())\n",
    "full_exploded.shape"
   ]
  },
  {
   "cell_type": "markdown",
   "id": "65467ebc-ae40-48ea-9a80-7ed5ec6c8cb5",
   "metadata": {},
   "source": [
    "Добавляем необходимую явную типизацию в названия колонок:"
   ]
  },
  {
   "cell_type": "code",
   "execution_count": 25,
   "id": "32a66778-3951-479a-b8a1-62c6276e632e",
   "metadata": {},
   "outputs": [
    {
     "data": {
      "text/html": [
       "<div>\n",
       "<style scoped>\n",
       "    .dataframe tbody tr th:only-of-type {\n",
       "        vertical-align: middle;\n",
       "    }\n",
       "\n",
       "    .dataframe tbody tr th {\n",
       "        vertical-align: top;\n",
       "    }\n",
       "\n",
       "    .dataframe thead th {\n",
       "        text-align: right;\n",
       "    }\n",
       "</style>\n",
       "<table border=\"1\" class=\"dataframe\">\n",
       "  <thead>\n",
       "    <tr style=\"text-align: right;\">\n",
       "      <th></th>\n",
       "      <th>user_id:token</th>\n",
       "      <th>item_id:token</th>\n",
       "      <th>timestamp:float</th>\n",
       "    </tr>\n",
       "  </thead>\n",
       "  <tbody>\n",
       "    <tr>\n",
       "      <th>0</th>\n",
       "      <td>0</td>\n",
       "      <td>4814</td>\n",
       "      <td>1495183200</td>\n",
       "    </tr>\n",
       "    <tr>\n",
       "      <th>1</th>\n",
       "      <td>0</td>\n",
       "      <td>4814</td>\n",
       "      <td>1495204800</td>\n",
       "    </tr>\n",
       "    <tr>\n",
       "      <th>2</th>\n",
       "      <td>0</td>\n",
       "      <td>6011</td>\n",
       "      <td>1495226400</td>\n",
       "    </tr>\n",
       "    <tr>\n",
       "      <th>3</th>\n",
       "      <td>0</td>\n",
       "      <td>6011</td>\n",
       "      <td>1495248000</td>\n",
       "    </tr>\n",
       "    <tr>\n",
       "      <th>4</th>\n",
       "      <td>0</td>\n",
       "      <td>6010</td>\n",
       "      <td>1495269600</td>\n",
       "    </tr>\n",
       "  </tbody>\n",
       "</table>\n",
       "</div>"
      ],
      "text/plain": [
       "   user_id:token  item_id:token  timestamp:float\n",
       "0              0           4814       1495183200\n",
       "1              0           4814       1495204800\n",
       "2              0           6011       1495226400\n",
       "3              0           6011       1495248000\n",
       "4              0           6010       1495269600"
      ]
     },
     "metadata": {},
     "output_type": "display_data"
    },
    {
     "data": {
      "text/html": [
       "<div>\n",
       "<style scoped>\n",
       "    .dataframe tbody tr th:only-of-type {\n",
       "        vertical-align: middle;\n",
       "    }\n",
       "\n",
       "    .dataframe tbody tr th {\n",
       "        vertical-align: top;\n",
       "    }\n",
       "\n",
       "    .dataframe thead th {\n",
       "        text-align: right;\n",
       "    }\n",
       "</style>\n",
       "<table border=\"1\" class=\"dataframe\">\n",
       "  <thead>\n",
       "    <tr style=\"text-align: right;\">\n",
       "      <th></th>\n",
       "      <th>user_id:token</th>\n",
       "      <th>item_id:token</th>\n",
       "      <th>timestamp:float</th>\n",
       "    </tr>\n",
       "  </thead>\n",
       "  <tbody>\n",
       "    <tr>\n",
       "      <th>6752231</th>\n",
       "      <td>14065</td>\n",
       "      <td>5411</td>\n",
       "      <td>1499913600</td>\n",
       "    </tr>\n",
       "    <tr>\n",
       "      <th>6752232</th>\n",
       "      <td>14065</td>\n",
       "      <td>6011</td>\n",
       "      <td>1499935200</td>\n",
       "    </tr>\n",
       "    <tr>\n",
       "      <th>6752233</th>\n",
       "      <td>14065</td>\n",
       "      <td>5541</td>\n",
       "      <td>1499956800</td>\n",
       "    </tr>\n",
       "    <tr>\n",
       "      <th>6752234</th>\n",
       "      <td>14065</td>\n",
       "      <td>6010</td>\n",
       "      <td>1499978400</td>\n",
       "    </tr>\n",
       "    <tr>\n",
       "      <th>6752235</th>\n",
       "      <td>14065</td>\n",
       "      <td>4814</td>\n",
       "      <td>1500000000</td>\n",
       "    </tr>\n",
       "  </tbody>\n",
       "</table>\n",
       "</div>"
      ],
      "text/plain": [
       "         user_id:token  item_id:token  timestamp:float\n",
       "6752231          14065           5411       1499913600\n",
       "6752232          14065           6011       1499935200\n",
       "6752233          14065           5541       1499956800\n",
       "6752234          14065           6010       1499978400\n",
       "6752235          14065           4814       1500000000"
      ]
     },
     "metadata": {},
     "output_type": "display_data"
    }
   ],
   "source": [
    "full_exploded.columns = ['user_id:token', 'item_id:token', 'timestamp:float']\n",
    "display(full_exploded.head())\n",
    "display(full_exploded.tail())"
   ]
  },
  {
   "cell_type": "markdown",
   "id": "f517b1e8-17df-47a8-9f8c-4abcf2f4f707",
   "metadata": {},
   "source": [
    "Сохраняем получившийся файл для дальнейшего обучения.  \n",
    "**RecBole**-у важно, чтобы данные для обучения лежали в одной папке, а сами файлы носили то же имя, что и папка, а также имели соответствующее типу данных расширение. У нас это `.inter` — файл с *interactions* `user_id` и `item_id`."
   ]
  },
  {
   "cell_type": "code",
   "execution_count": 26,
   "id": "16897e49-abef-4911-ad94-72c64cc3c403",
   "metadata": {},
   "outputs": [],
   "source": [
    "new_folder = 'full_train'\n",
    "\n",
    "# Создаём новую папку 'full_train' если она не существует\n",
    "if not os.path.exists(new_folder):\n",
    "    os.makedirs(new_folder)\n",
    "\n",
    "new_csv = ('full_train/'\n",
    "           + 'full_train.inter')\n",
    "\n",
    "# Сохраняем csv с данными для обучения\n",
    "if not os.path.exists(new_csv):\n",
    "    full_exploded[['user_id:token', 'item_id:token', 'timestamp:float']]\\\n",
    "    .to_csv(new_csv, sep='\\t', index=False)"
   ]
  },
  {
   "cell_type": "markdown",
   "id": "e4f4dd70-a411-460d-906e-1562575883d6",
   "metadata": {},
   "source": [
    "#### Обучение модели"
   ]
  },
  {
   "cell_type": "markdown",
   "id": "0b0eff65-cbab-4ca3-a1ec-0fb0d955a035",
   "metadata": {},
   "source": [
    "Диапазон подобранных гиперпараметров:\n",
    "\n",
    "- `MAX_ITEM_LIST_LENGTH`: [20 - 150]\n",
    "- `embedding_size`: [64 - 256]\n",
    "- `hidden_size`: [64 - 256]\n",
    "- `num_layers`: [1 - 3]\n",
    "- `dropout_prob`: [0 - 0.5]\n",
    "- `loss_type`: ['CE', 'BPR']\n",
    "- `train_batch_size`: [256 - 7033]"
   ]
  },
  {
   "cell_type": "markdown",
   "id": "7a1c8e9e-9eee-4414-a2cd-9a00b69dd97a",
   "metadata": {},
   "source": [
    "В [оригинальной статье](https://arxiv.org/abs/1511.06939), представившей модель *GRU4Rec* авторы не используют эмбеддинги для айтемов (в их экспериментах *one-hot encoding* работал лучше), а также использовали функцию активации `tanh` для выходного слоя.\n",
    "\n",
    "Пожалуй, наиболее важное различие — вместо *pointwise* кросс-энтропии авторы использовали *pairwis*e функции потерь *BPR* (*Bayesian Personalized Ranking*) и *TOP1*, опирающиеся на *negative sampling*."
   ]
  },
  {
   "cell_type": "code",
   "execution_count": 27,
   "id": "0ba49575-82f9-468e-bc64-59c3e6ba4962",
   "metadata": {},
   "outputs": [],
   "source": [
    "# Для того чтобы тетрадка запускалась и на CPU, и на GPU\n",
    "DEVICE = torch.device(\"cuda\")\n",
    "config_dict = {\n",
    "    \"USER_ID_FIELD\": \"user_id\",\n",
    "    \"ITEM_ID_FIELD\": \"item_id\",\n",
    "    \"TIME_FIELD\": \"timestamp\",\n",
    "    \"load_col\": {\"inter\": [\"user_id\", \"item_id\", \"timestamp\"]},\n",
    "    \"ITEM_LIST_LENGTH_FIELD\": \"item_length\",\n",
    "    \"LIST_SUFFIX\": \"_list\",\n",
    "    \"MAX_ITEM_LIST_LENGTH\": 10,  # максимальная длина последовательности\n",
    "    \"embedding_size\": 256, # размерность эмбеддингов\n",
    "    \"hidden_size\": 10, # размерность скрытого состояния GRU\n",
    "    \"num_layers\": 1,  # кол-во скрытых слоёв\n",
    "    \"dropout_prob\": 0.3,  # droupout-вероятность в обучении\n",
    "    \"loss_type\": \"CE\",  # функция потерь\n",
    "    \"epochs\": 25,\n",
    "    \"train_batch_size\": 300,\n",
    "    \"eval_batch_size\": 4096,\n",
    "    \"train_neg_sample_args\": None, # не используем negative sampling\n",
    "    # словарь с параметрами валидации\n",
    "    \"eval_args\": {\n",
    "        \"group_by\": \"user\", # группируем по пользователям\n",
    "        \"order\": \"TO\", # сортируем по timestamp-у\n",
    "        \"split\": {\"LS\": \"valid_only\"}, # leave-one-out validation\n",
    "        \"mode\": \"full\", # используем все данные для inference\n",
    "    },\n",
    "    \"metrics\": [\"Recall\", \"MRR\", \"NDCG\", \"Hit\", \"Precision\", \"MAP\"],\n",
    "    \"topk\": 10,\n",
    "    \"valid_metric\": \"MAP@10\", # валидационная метрика, также целевая метрика\n",
    "    # соревнования\n",
    "    \"data_path\": \"\",\n",
    "    \"stopping_step\": 2, # останавливаем обучение если в течение\n",
    "    # этого кол-ва эпох не было улучшения валидационной метрики\n",
    "    \"device\": DEVICE,\n",
    "}"
   ]
  },
  {
   "cell_type": "code",
   "execution_count": 28,
   "id": "a7391d02-bd53-4de6-9a19-560545fac4a6",
   "metadata": {},
   "outputs": [
    {
     "name": "stderr",
     "output_type": "stream",
     "text": [
      "\n",
      "\u001b[1;35mGeneral Hyper Parameters:\n",
      "\u001b[0m\u001b[1;36mgpu_id\u001b[0m =\u001b[1;33m 0\u001b[0m\n",
      "\u001b[1;36muse_gpu\u001b[0m =\u001b[1;33m True\u001b[0m\n",
      "\u001b[1;36mseed\u001b[0m =\u001b[1;33m 2020\u001b[0m\n",
      "\u001b[1;36mstate\u001b[0m =\u001b[1;33m INFO\u001b[0m\n",
      "\u001b[1;36mreproducibility\u001b[0m =\u001b[1;33m True\u001b[0m\n",
      "\u001b[1;36mdata_path\u001b[0m =\u001b[1;33m full_train\u001b[0m\n",
      "\u001b[1;36mcheckpoint_dir\u001b[0m =\u001b[1;33m saved\u001b[0m\n",
      "\u001b[1;36mshow_progress\u001b[0m =\u001b[1;33m True\u001b[0m\n",
      "\u001b[1;36msave_dataset\u001b[0m =\u001b[1;33m False\u001b[0m\n",
      "\u001b[1;36mdataset_save_path\u001b[0m =\u001b[1;33m None\u001b[0m\n",
      "\u001b[1;36msave_dataloaders\u001b[0m =\u001b[1;33m False\u001b[0m\n",
      "\u001b[1;36mdataloaders_save_path\u001b[0m =\u001b[1;33m None\u001b[0m\n",
      "\u001b[1;36mlog_wandb\u001b[0m =\u001b[1;33m False\u001b[0m\n",
      "\n",
      "\u001b[1;35mTraining Hyper Parameters:\n",
      "\u001b[0m\u001b[1;36mepochs\u001b[0m =\u001b[1;33m 25\u001b[0m\n",
      "\u001b[1;36mtrain_batch_size\u001b[0m =\u001b[1;33m 300\u001b[0m\n",
      "\u001b[1;36mlearner\u001b[0m =\u001b[1;33m adam\u001b[0m\n",
      "\u001b[1;36mlearning_rate\u001b[0m =\u001b[1;33m 0.001\u001b[0m\n",
      "\u001b[1;36mtrain_neg_sample_args\u001b[0m =\u001b[1;33m {'distribution': 'none', 'sample_num': 'none', 'alpha': 'none', 'dynamic': False, 'candidate_num': 0}\u001b[0m\n",
      "\u001b[1;36meval_step\u001b[0m =\u001b[1;33m 1\u001b[0m\n",
      "\u001b[1;36mstopping_step\u001b[0m =\u001b[1;33m 2\u001b[0m\n",
      "\u001b[1;36mclip_grad_norm\u001b[0m =\u001b[1;33m None\u001b[0m\n",
      "\u001b[1;36mweight_decay\u001b[0m =\u001b[1;33m 0.0\u001b[0m\n",
      "\u001b[1;36mloss_decimal_place\u001b[0m =\u001b[1;33m 4\u001b[0m\n",
      "\n",
      "\u001b[1;35mEvaluation Hyper Parameters:\n",
      "\u001b[0m\u001b[1;36meval_args\u001b[0m =\u001b[1;33m {'split': {'LS': 'valid_only'}, 'order': 'TO', 'group_by': 'user', 'mode': {'valid': 'full', 'test': 'full'}}\u001b[0m\n",
      "\u001b[1;36mrepeatable\u001b[0m =\u001b[1;33m True\u001b[0m\n",
      "\u001b[1;36mmetrics\u001b[0m =\u001b[1;33m ['Recall', 'MRR', 'NDCG', 'Hit', 'Precision', 'MAP']\u001b[0m\n",
      "\u001b[1;36mtopk\u001b[0m =\u001b[1;33m [10]\u001b[0m\n",
      "\u001b[1;36mvalid_metric\u001b[0m =\u001b[1;33m MAP@10\u001b[0m\n",
      "\u001b[1;36mvalid_metric_bigger\u001b[0m =\u001b[1;33m True\u001b[0m\n",
      "\u001b[1;36meval_batch_size\u001b[0m =\u001b[1;33m 4096\u001b[0m\n",
      "\u001b[1;36mmetric_decimal_place\u001b[0m =\u001b[1;33m 4\u001b[0m\n",
      "\n",
      "\u001b[1;35mDataset Hyper Parameters:\n",
      "\u001b[0m\u001b[1;36mfield_separator\u001b[0m =\u001b[1;33m \t\u001b[0m\n",
      "\u001b[1;36mseq_separator\u001b[0m =\u001b[1;33m  \u001b[0m\n",
      "\u001b[1;36mUSER_ID_FIELD\u001b[0m =\u001b[1;33m user_id\u001b[0m\n",
      "\u001b[1;36mITEM_ID_FIELD\u001b[0m =\u001b[1;33m item_id\u001b[0m\n",
      "\u001b[1;36mRATING_FIELD\u001b[0m =\u001b[1;33m rating\u001b[0m\n",
      "\u001b[1;36mTIME_FIELD\u001b[0m =\u001b[1;33m timestamp\u001b[0m\n",
      "\u001b[1;36mseq_len\u001b[0m =\u001b[1;33m None\u001b[0m\n",
      "\u001b[1;36mLABEL_FIELD\u001b[0m =\u001b[1;33m label\u001b[0m\n",
      "\u001b[1;36mthreshold\u001b[0m =\u001b[1;33m None\u001b[0m\n",
      "\u001b[1;36mNEG_PREFIX\u001b[0m =\u001b[1;33m neg_\u001b[0m\n",
      "\u001b[1;36mload_col\u001b[0m =\u001b[1;33m {'inter': ['user_id', 'item_id', 'timestamp']}\u001b[0m\n",
      "\u001b[1;36munload_col\u001b[0m =\u001b[1;33m None\u001b[0m\n",
      "\u001b[1;36munused_col\u001b[0m =\u001b[1;33m None\u001b[0m\n",
      "\u001b[1;36madditional_feat_suffix\u001b[0m =\u001b[1;33m None\u001b[0m\n",
      "\u001b[1;36mrm_dup_inter\u001b[0m =\u001b[1;33m None\u001b[0m\n",
      "\u001b[1;36mval_interval\u001b[0m =\u001b[1;33m None\u001b[0m\n",
      "\u001b[1;36mfilter_inter_by_user_or_item\u001b[0m =\u001b[1;33m True\u001b[0m\n",
      "\u001b[1;36muser_inter_num_interval\u001b[0m =\u001b[1;33m [0,inf)\u001b[0m\n",
      "\u001b[1;36mitem_inter_num_interval\u001b[0m =\u001b[1;33m [0,inf)\u001b[0m\n",
      "\u001b[1;36malias_of_user_id\u001b[0m =\u001b[1;33m None\u001b[0m\n",
      "\u001b[1;36malias_of_item_id\u001b[0m =\u001b[1;33m None\u001b[0m\n",
      "\u001b[1;36malias_of_entity_id\u001b[0m =\u001b[1;33m None\u001b[0m\n",
      "\u001b[1;36malias_of_relation_id\u001b[0m =\u001b[1;33m None\u001b[0m\n",
      "\u001b[1;36mpreload_weight\u001b[0m =\u001b[1;33m None\u001b[0m\n",
      "\u001b[1;36mnormalize_field\u001b[0m =\u001b[1;33m None\u001b[0m\n",
      "\u001b[1;36mnormalize_all\u001b[0m =\u001b[1;33m None\u001b[0m\n",
      "\u001b[1;36mITEM_LIST_LENGTH_FIELD\u001b[0m =\u001b[1;33m item_length\u001b[0m\n",
      "\u001b[1;36mLIST_SUFFIX\u001b[0m =\u001b[1;33m _list\u001b[0m\n",
      "\u001b[1;36mMAX_ITEM_LIST_LENGTH\u001b[0m =\u001b[1;33m 10\u001b[0m\n",
      "\u001b[1;36mPOSITION_FIELD\u001b[0m =\u001b[1;33m position_id\u001b[0m\n",
      "\u001b[1;36mHEAD_ENTITY_ID_FIELD\u001b[0m =\u001b[1;33m head_id\u001b[0m\n",
      "\u001b[1;36mTAIL_ENTITY_ID_FIELD\u001b[0m =\u001b[1;33m tail_id\u001b[0m\n",
      "\u001b[1;36mRELATION_ID_FIELD\u001b[0m =\u001b[1;33m relation_id\u001b[0m\n",
      "\u001b[1;36mENTITY_ID_FIELD\u001b[0m =\u001b[1;33m entity_id\u001b[0m\n",
      "\u001b[1;36mbenchmark_filename\u001b[0m =\u001b[1;33m None\u001b[0m\n",
      "\n",
      "\u001b[1;35mOther Hyper Parameters: \n",
      "\u001b[0m\u001b[1;36mworker\u001b[0m = \u001b[1;33m0\u001b[0m\n",
      "\u001b[1;36mwandb_project\u001b[0m = \u001b[1;33mrecbole\u001b[0m\n",
      "\u001b[1;36mshuffle\u001b[0m = \u001b[1;33mTrue\u001b[0m\n",
      "\u001b[1;36mrequire_pow\u001b[0m = \u001b[1;33mFalse\u001b[0m\n",
      "\u001b[1;36menable_amp\u001b[0m = \u001b[1;33mFalse\u001b[0m\n",
      "\u001b[1;36menable_scaler\u001b[0m = \u001b[1;33mFalse\u001b[0m\n",
      "\u001b[1;36mtransform\u001b[0m = \u001b[1;33mNone\u001b[0m\n",
      "\u001b[1;36membedding_size\u001b[0m = \u001b[1;33m256\u001b[0m\n",
      "\u001b[1;36mhidden_size\u001b[0m = \u001b[1;33m10\u001b[0m\n",
      "\u001b[1;36mnum_layers\u001b[0m = \u001b[1;33m1\u001b[0m\n",
      "\u001b[1;36mdropout_prob\u001b[0m = \u001b[1;33m0.3\u001b[0m\n",
      "\u001b[1;36mloss_type\u001b[0m = \u001b[1;33mCE\u001b[0m\n",
      "\u001b[1;36mnumerical_features\u001b[0m = \u001b[1;33m[]\u001b[0m\n",
      "\u001b[1;36mdiscretization\u001b[0m = \u001b[1;33mNone\u001b[0m\n",
      "\u001b[1;36mkg_reverse_r\u001b[0m = \u001b[1;33mFalse\u001b[0m\n",
      "\u001b[1;36mentity_kg_num_interval\u001b[0m = \u001b[1;33m[0,inf)\u001b[0m\n",
      "\u001b[1;36mrelation_kg_num_interval\u001b[0m = \u001b[1;33m[0,inf)\u001b[0m\n",
      "\u001b[1;36mMODEL_TYPE\u001b[0m = \u001b[1;33mModelType.SEQUENTIAL\u001b[0m\n",
      "\u001b[1;36mdevice\u001b[0m = \u001b[1;33mcpu\u001b[0m\n",
      "\u001b[1;36mMODEL_INPUT_TYPE\u001b[0m = \u001b[1;33mInputType.POINTWISE\u001b[0m\n",
      "\u001b[1;36meval_type\u001b[0m = \u001b[1;33mEvaluatorType.RANKING\u001b[0m\n",
      "\u001b[1;36msingle_spec\u001b[0m = \u001b[1;33mTrue\u001b[0m\n",
      "\u001b[1;36mlocal_rank\u001b[0m = \u001b[1;33m0\u001b[0m\n",
      "\u001b[1;36mvalid_neg_sample_args\u001b[0m = \u001b[1;33m{'distribution': 'uniform', 'sample_num': 'none'}\u001b[0m\n",
      "\u001b[1;36mtest_neg_sample_args\u001b[0m = \u001b[1;33m{'distribution': 'uniform', 'sample_num': 'none'}\u001b[0m\n",
      "\n",
      "\n"
     ]
    }
   ],
   "source": [
    "config = Config(model='GRU4Rec', dataset='full_train', config_dict=config_dict)\n",
    "\n",
    "# инициализируем логгеры для вывода информации\n",
    "logger = getLogger()\n",
    "logger.setLevel(logging.INFO)\n",
    "\n",
    "\n",
    "c_handler = logging.StreamHandler()\n",
    "c_handler.setLevel(logging.INFO)\n",
    "logger.addHandler(c_handler)\n",
    "\n",
    "\n",
    "logger.info(config)"
   ]
  },
  {
   "cell_type": "markdown",
   "id": "e699fb30-18ff-4358-aea7-90cf0d7d303b",
   "metadata": {},
   "source": [
    "Создаём объекты тренировочной выборки и валдиацонной:"
   ]
  },
  {
   "cell_type": "code",
   "execution_count": 29,
   "id": "6ef5ee36",
   "metadata": {},
   "outputs": [],
   "source": [
    "torch.cuda.empty_cache()"
   ]
  },
  {
   "cell_type": "code",
   "execution_count": 30,
   "id": "949b1679-439b-4d82-93b2-2e245481f57b",
   "metadata": {},
   "outputs": [
    {
     "name": "stderr",
     "output_type": "stream",
     "text": [
      "\u001b[1;35mfull_train\u001b[0m\n",
      "\u001b[1;34mThe number of users\u001b[0m: 14067\n",
      "\u001b[1;34mAverage actions of users\u001b[0m: 480.0395279397128\n",
      "\u001b[1;34mThe number of items\u001b[0m: 185\n",
      "\u001b[1;34mAverage actions of items\u001b[0m: 36696.934782608696\n",
      "\u001b[1;34mThe number of inters\u001b[0m: 6752236\n",
      "\u001b[1;34mThe sparsity of the dataset\u001b[0m: -159.46237984625702%\n",
      "\u001b[1;34mRemain Fields\u001b[0m: ['user_id', 'item_id', 'timestamp']\n",
      "\u001b[1;35m[Training]: \u001b[0m\u001b[1;36mtrain_batch_size\u001b[0m = \u001b[1;33m[300]\u001b[0m\u001b[1;36m train_neg_sample_args\u001b[0m: \u001b[1;33m[{'distribution': 'none', 'sample_num': 'none', 'alpha': 'none', 'dynamic': False, 'candidate_num': 0}]\u001b[0m\n",
      "\u001b[1;35m[Evaluation]: \u001b[0m\u001b[1;36meval_batch_size\u001b[0m = \u001b[1;33m[4096]\u001b[0m\u001b[1;36m eval_args\u001b[0m: \u001b[1;33m[{'split': {'LS': 'valid_only'}, 'order': 'TO', 'group_by': 'user', 'mode': {'valid': 'full', 'test': 'full'}}]\u001b[0m\n"
     ]
    }
   ],
   "source": [
    "dataset = create_dataset(config)\n",
    "logger.info(dataset)\n",
    "train_data, valid_data, _ = data_preparation(config, dataset)"
   ]
  },
  {
   "cell_type": "markdown",
   "id": "c6aa601b-2620-4c7e-8270-8567c0883f00",
   "metadata": {},
   "source": [
    "Инициализируем модель и обучаем."
   ]
  },
  {
   "cell_type": "code",
   "execution_count": 31,
   "id": "4e97ea46-70e3-44ef-b3ae-a3a3206eb736",
   "metadata": {},
   "outputs": [
    {
     "name": "stderr",
     "output_type": "stream",
     "text": [
      "GRU4Rec(\n",
      "  (item_embedding): Embedding(185, 256, padding_idx=0)\n",
      "  (emb_dropout): Dropout(p=0.3, inplace=False)\n",
      "  (gru_layers): GRU(256, 10, bias=False, batch_first=True)\n",
      "  (dense): Linear(in_features=10, out_features=256, bias=True)\n",
      "  (loss_fct): CrossEntropyLoss()\n",
      ")\u001b[1;34m\n",
      "Trainable parameters\u001b[0m: 58156\n",
      "\u001b[1;32mepoch 0 training\u001b[0m [\u001b[1;34mtime\u001b[0m: 1836.98s, \u001b[1;34mtrain loss\u001b[0m: 47811.6095]\n",
      "\u001b[1;32mepoch 0 evaluating\u001b[0m [\u001b[1;34mtime\u001b[0m: 0.15s, \u001b[1;34mvalid_score\u001b[0m: 0.554300]\n",
      "\u001b[1;34mvalid result\u001b[0m: \n",
      "recall@10 : 0.9111    mrr@10 : 0.5543    ndcg@10 : 0.6413    hit@10 : 0.9111    precision@10 : 0.0911    map@10 : 0.5543\n",
      "\u001b[1;34mSaving current\u001b[0m: saved\\GRU4Rec-Feb-08-2024_21-05-39.pth\n",
      "\u001b[1;32mepoch 1 training\u001b[0m [\u001b[1;34mtime\u001b[0m: 1934.46s, \u001b[1;34mtrain loss\u001b[0m: 47448.6768]\n",
      "\u001b[1;32mepoch 1 evaluating\u001b[0m [\u001b[1;34mtime\u001b[0m: 0.15s, \u001b[1;34mvalid_score\u001b[0m: 0.557400]\n",
      "\u001b[1;34mvalid result\u001b[0m: \n",
      "recall@10 : 0.9122    mrr@10 : 0.5574    ndcg@10 : 0.644    hit@10 : 0.9122    precision@10 : 0.0912    map@10 : 0.5574\n",
      "\u001b[1;34mSaving current\u001b[0m: saved\\GRU4Rec-Feb-08-2024_21-05-39.pth\n",
      "\u001b[1;32mepoch 2 training\u001b[0m [\u001b[1;34mtime\u001b[0m: 1957.94s, \u001b[1;34mtrain loss\u001b[0m: 47403.8846]\n",
      "\u001b[1;32mepoch 2 evaluating\u001b[0m [\u001b[1;34mtime\u001b[0m: 0.17s, \u001b[1;34mvalid_score\u001b[0m: 0.558600]\n",
      "\u001b[1;34mvalid result\u001b[0m: \n",
      "recall@10 : 0.9128    mrr@10 : 0.5586    ndcg@10 : 0.645    hit@10 : 0.9128    precision@10 : 0.0913    map@10 : 0.5586\n",
      "\u001b[1;34mSaving current\u001b[0m: saved\\GRU4Rec-Feb-08-2024_21-05-39.pth\n",
      "\u001b[1;32mepoch 3 training\u001b[0m [\u001b[1;34mtime\u001b[0m: 1962.17s, \u001b[1;34mtrain loss\u001b[0m: 47383.3502]\n",
      "\u001b[1;32mepoch 3 evaluating\u001b[0m [\u001b[1;34mtime\u001b[0m: 0.16s, \u001b[1;34mvalid_score\u001b[0m: 0.559500]\n",
      "\u001b[1;34mvalid result\u001b[0m: \n",
      "recall@10 : 0.9127    mrr@10 : 0.5595    ndcg@10 : 0.6457    hit@10 : 0.9127    precision@10 : 0.0913    map@10 : 0.5595\n",
      "\u001b[1;34mSaving current\u001b[0m: saved\\GRU4Rec-Feb-08-2024_21-05-39.pth\n",
      "\u001b[1;32mepoch 4 training\u001b[0m [\u001b[1;34mtime\u001b[0m: 1957.67s, \u001b[1;34mtrain loss\u001b[0m: 47371.4634]\n",
      "\u001b[1;32mepoch 4 evaluating\u001b[0m [\u001b[1;34mtime\u001b[0m: 0.15s, \u001b[1;34mvalid_score\u001b[0m: 0.560100]\n",
      "\u001b[1;34mvalid result\u001b[0m: \n",
      "recall@10 : 0.9136    mrr@10 : 0.5601    ndcg@10 : 0.6463    hit@10 : 0.9136    precision@10 : 0.0914    map@10 : 0.5601\n",
      "\u001b[1;34mSaving current\u001b[0m: saved\\GRU4Rec-Feb-08-2024_21-05-39.pth\n",
      "\u001b[1;32mepoch 5 training\u001b[0m [\u001b[1;34mtime\u001b[0m: 1933.93s, \u001b[1;34mtrain loss\u001b[0m: 47362.2041]\n",
      "\u001b[1;32mepoch 5 evaluating\u001b[0m [\u001b[1;34mtime\u001b[0m: 0.16s, \u001b[1;34mvalid_score\u001b[0m: 0.558200]\n",
      "\u001b[1;34mvalid result\u001b[0m: \n",
      "recall@10 : 0.9118    mrr@10 : 0.5582    ndcg@10 : 0.6445    hit@10 : 0.9118    precision@10 : 0.0912    map@10 : 0.5582\n",
      "\u001b[1;32mepoch 6 training\u001b[0m [\u001b[1;34mtime\u001b[0m: 1936.06s, \u001b[1;34mtrain loss\u001b[0m: 47353.2802]\n",
      "\u001b[1;32mepoch 6 evaluating\u001b[0m [\u001b[1;34mtime\u001b[0m: 0.16s, \u001b[1;34mvalid_score\u001b[0m: 0.554800]\n",
      "\u001b[1;34mvalid result\u001b[0m: \n",
      "recall@10 : 0.9123    mrr@10 : 0.5548    ndcg@10 : 0.642    hit@10 : 0.9123    precision@10 : 0.0912    map@10 : 0.5548\n",
      "\u001b[1;32mepoch 7 training\u001b[0m [\u001b[1;34mtime\u001b[0m: 1892.75s, \u001b[1;34mtrain loss\u001b[0m: 47346.4086]\n",
      "\u001b[1;32mepoch 7 evaluating\u001b[0m [\u001b[1;34mtime\u001b[0m: 0.17s, \u001b[1;34mvalid_score\u001b[0m: 0.557400]\n",
      "\u001b[1;34mvalid result\u001b[0m: \n",
      "recall@10 : 0.9129    mrr@10 : 0.5574    ndcg@10 : 0.6441    hit@10 : 0.9129    precision@10 : 0.0913    map@10 : 0.5574\n",
      "Finished training, best eval result in epoch 4\n"
     ]
    }
   ],
   "source": [
    "model = GRU4Rec(config, train_data.dataset).to(config['device'])\n",
    "logger.info(model)\n",
    "\n",
    "# инициализируем \"тренера\" модели\n",
    "trainer = Trainer(config, model)\n",
    "\n",
    "# сохраняем лучшие результаты\n",
    "best_valid_score, best_valid_result = trainer.fit(train_data, valid_data)"
   ]
  },
  {
   "cell_type": "markdown",
   "id": "3999468e",
   "metadata": {},
   "source": [
    "## Формируем ответ"
   ]
  },
  {
   "cell_type": "markdown",
   "id": "f2e7ce87",
   "metadata": {},
   "source": [
    "Т.к использование RecBole не улучшило показатель основной метрики, ответ сформируем используя модель без ML подхода."
   ]
  },
  {
   "cell_type": "code",
   "execution_count": 32,
   "id": "47030b91",
   "metadata": {},
   "outputs": [],
   "source": [
    "df_test['Predicted'] = df_test['Data'].apply(top_codes_by_probability, drop_from=2)\n",
    "\n",
    "submission = df_test[['Id', 'Predicted']]\n",
    "submission['Predicted'] = submission['Predicted'].apply(lambda x: str(x).replace(',', '')[1:-1])\n",
    "submission.to_csv('output/submission_no_ml.csv', index=False)"
   ]
  },
  {
   "cell_type": "markdown",
   "id": "00387670",
   "metadata": {},
   "source": [
    "![title](img/kaggle_result.jpg)"
   ]
  }
 ],
 "metadata": {
  "kernelspec": {
   "display_name": "Python 3 (ipykernel)",
   "language": "python",
   "name": "python3"
  },
  "language_info": {
   "codemirror_mode": {
    "name": "ipython",
    "version": 3
   },
   "file_extension": ".py",
   "mimetype": "text/x-python",
   "name": "python",
   "nbconvert_exporter": "python",
   "pygments_lexer": "ipython3",
   "version": "3.11.5"
  }
 },
 "nbformat": 4,
 "nbformat_minor": 5
}
